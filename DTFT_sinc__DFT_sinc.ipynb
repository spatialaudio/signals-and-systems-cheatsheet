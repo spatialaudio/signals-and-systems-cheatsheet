{
 "cells": [
  {
   "cell_type": "code",
   "execution_count": 1,
   "id": "d7c5809e",
   "metadata": {},
   "outputs": [
    {
     "name": "stdout",
     "output_type": "stream",
     "text": [
      "Using matplotlib backend: Qt5Agg\n"
     ]
    }
   ],
   "source": [
    "import numpy as np\n",
    "import matplotlib.pyplot as plt\n",
    "%matplotlib\n",
    "from scipy.special import diric"
   ]
  },
  {
   "cell_type": "code",
   "execution_count": 19,
   "id": "86a3355d",
   "metadata": {},
   "outputs": [
    {
     "data": {
      "text/plain": [
       "[<matplotlib.lines.Line2D at 0x2178474d370>]"
      ]
     },
     "execution_count": 19,
     "metadata": {},
     "output_type": "execute_result"
    }
   ],
   "source": [
    "k = np.arange(-5000,5001,1)\n",
    "x = np.sinc(k/2)\n",
    "\n",
    "Omega = np.arange(-np.pi,np.pi,1/100)\n",
    "\n",
    "X = np.zeros_like(Omega,dtype=complex)\n",
    "\n",
    "for i in range(0,Omega.size):\n",
    "    X[i] = np.sum(x*np.exp(-1j*Omega[i]*k))\n",
    "\n",
    "plt.plot(Omega,np.abs(X))"
   ]
  },
  {
   "cell_type": "code",
   "execution_count": 22,
   "id": "430617a2",
   "metadata": {},
   "outputs": [
    {
     "data": {
      "text/plain": [
       "(array([158, 159, 172, 173, 174, 175, 176, 177, 178, 179, 180, 181, 182,\n",
       "        183, 196, 197, 198, 199, 200, 201, 202, 203, 204, 205, 206, 207,\n",
       "        219, 220, 221, 222, 223, 224, 225, 226, 227, 228, 229, 230, 243,\n",
       "        244, 245, 246, 247, 248, 249, 250, 251, 252, 253, 254, 267, 268,\n",
       "        269, 270, 271, 272, 273, 274, 275, 276, 277, 278, 290, 291, 292,\n",
       "        293, 294, 295, 296, 297, 298, 299, 300, 301, 314, 315, 316, 317,\n",
       "        318, 319, 320, 321, 322, 323, 324, 325, 338, 339, 340, 341, 342,\n",
       "        343, 344, 345, 346, 347, 348, 349, 361, 362, 363, 364, 365, 366,\n",
       "        367, 368, 369, 370, 371, 372, 385, 386, 387, 388, 389, 390, 391,\n",
       "        392, 393, 394, 395, 396, 409, 410, 411, 412, 413, 414, 415, 416,\n",
       "        417, 418, 419, 420, 432, 433, 434, 435, 436, 437, 438, 439, 440,\n",
       "        441, 442, 443, 456, 457, 458, 459, 460, 461, 462, 463, 464, 465,\n",
       "        466, 467], dtype=int64),)"
      ]
     },
     "execution_count": 22,
     "metadata": {},
     "output_type": "execute_result"
    }
   ],
   "source": [
    "np.where(np.abs(X)>2)"
   ]
  },
  {
   "cell_type": "code",
   "execution_count": 35,
   "id": "de31b7a6",
   "metadata": {},
   "outputs": [
    {
     "name": "stdout",
     "output_type": "stream",
     "text": [
      "[2.00035167 1.99942527 1.99773618 1.9936387  1.95973379 0.0158113\n",
      " 0.00720613 0.00453522 0.00305505 0.00202852]\n",
      "1.5684073464101065\n",
      "1.5707963267948966\n"
     ]
    }
   ],
   "source": [
    "print(np.abs(X)[467:467+10])\n",
    "print(Omega[471])\n",
    "print(np.pi/2)"
   ]
  },
  {
   "cell_type": "code",
   "execution_count": 40,
   "id": "6734dde7",
   "metadata": {},
   "outputs": [
    {
     "name": "stdout",
     "output_type": "stream",
     "text": [
      "[4.42799237e-04 9.40251441e-04 1.52447634e-03 2.21097720e-03\n",
      " 3.04178386e-03 4.13193413e-03 5.84955510e-03 1.00115565e-02\n",
      " 1.21506428e-01 2.00593322e+00]\n",
      "-1.5615926535898268\n",
      "1.5707963267948966\n"
     ]
    }
   ],
   "source": [
    "print(np.abs(X)[159-10:159])\n",
    "print(Omega[158])\n",
    "print(np.pi/2)"
   ]
  },
  {
   "cell_type": "code",
   "execution_count": 10,
   "id": "ed53d361",
   "metadata": {},
   "outputs": [
    {
     "data": {
      "text/plain": [
       "<StemContainer object of 3 artists>"
      ]
     },
     "execution_count": 10,
     "metadata": {},
     "output_type": "execute_result"
    }
   ],
   "source": [
    "k = np.arange(0,10)\n",
    "x = diric(k*2*np.pi/10,5)\n",
    "X = np.fft.fft(x)\n",
    "plt.stem(k,np.abs(X))"
   ]
  }
 ],
 "metadata": {
  "kernelspec": {
   "display_name": "Python 3 (ipykernel)",
   "language": "python",
   "name": "python3"
  },
  "language_info": {
   "codemirror_mode": {
    "name": "ipython",
    "version": 3
   },
   "file_extension": ".py",
   "mimetype": "text/x-python",
   "name": "python",
   "nbconvert_exporter": "python",
   "pygments_lexer": "ipython3",
   "version": "3.9.7"
  }
 },
 "nbformat": 4,
 "nbformat_minor": 5
}
